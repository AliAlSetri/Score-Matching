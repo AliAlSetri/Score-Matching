{
 "cells": [
  {
   "cell_type": "code",
   "execution_count": 2,
   "metadata": {
    "collapsed": true
   },
   "outputs": [],
   "source": [
    "import numpy as np\n",
    "import tensorflow as tf\n",
    "import scipy.io\n",
    "%matplotlib inline"
   ]
  },
  {
   "cell_type": "code",
   "execution_count": 3,
   "metadata": {
    "collapsed": true
   },
   "outputs": [],
   "source": [
    "our_images = scipy.io.loadmat('IMAGES_RAW.mat')\n",
    "images = our_images['IMAGESr']"
   ]
  },
  {
   "cell_type": "code",
   "execution_count": 8,
   "metadata": {
    "collapsed": true
   },
   "outputs": [],
   "source": [
    "def random_patch(library, width):\n",
    "    im = library[:,:,np.random.randint(10)]\n",
    "    x = np.random.randint(np.shape(im)[0] - width)\n",
    "    y = np.random.randint(np.shape(im)[1] - width)\n",
    "    patch = im[x:x+width,y:y+width]\n",
    "    return patch\n",
    "\n",
    "def make_batch(library, num, width):\n",
    "    I = np.zeros((num, width*width))\n",
    "    count = 0\n",
    "    while count < num:\n",
    "        im = random_patch(library, width)\n",
    "        im_vec = im.reshape(1, width*width)\n",
    "        I[count] = im_vec\n",
    "        count = count + 1\n",
    "    return I"
   ]
  },
  {
   "cell_type": "code",
   "execution_count": 168,
   "metadata": {
    "collapsed": false
   },
   "outputs": [],
   "source": [
    "X = make_batch(images, 100, 16)\n",
    "X = np.transpose(X)\n",
    "n = np.shape(X)[0]\n",
    "def f(x):\n",
    "    return x*x*x\n",
    "def df(x):\n",
    "    return 3*x*x\n",
    "def ddf(x):\n",
    "    return 6*x\n",
    "D = tf.placeholder(tf.float32)\n",
    "T = tf.placeholder(tf.float32)\n",
    "tee = tf.placeholder(tf.int32)\n",
    "h = tf.Variable(tf.zeros([256]))\n",
    "H = tf.transpose(tf.reshape(tf.tile(h, [tee]), [tee, n]))\n",
    "Jd = tf.Variable(tf.random_normal([n]))\n",
    "Je = tf.exp(Jd)\n",
    "J = tf.diag(Je)"
   ]
  },
  {
   "cell_type": "code",
   "execution_count": 169,
   "metadata": {
    "collapsed": false
   },
   "outputs": [],
   "source": [
    "score = (1/T)*(-2*tf.reduce_sum(tf.multiply(ddf(D),tf.matmul(J,f(D)))) - tf.reduce_sum(tf.multiply(H,ddf(D)))\n",
    "-2*tf.reduce_sum(tf.multiply(tf.reshape(tf.tile(tf.diag_part(J),[tee]),[tee,n]), tf.transpose(tf.square(df(D))))) \n",
    "+ 2*tf.reduce_sum(tf.multiply(tf.square(df(D)), tf.square(tf.matmul(J,f(D))))) + \n",
    "               2*tf.reduce_sum(tf.multiply(tf.square(df(D)),tf.multiply(H,tf.matmul(J,f(D)))))\n",
    "            + (1/2)*tf.reduce_sum(tf.multiply(tf.square(df(D)), tf.square(H)))) "
   ]
  },
  {
   "cell_type": "code",
   "execution_count": 170,
   "metadata": {
    "collapsed": true
   },
   "outputs": [],
   "source": [
    "sess = tf.Session()\n",
    "init = tf.global_variables_initializer()\n",
    "sess.run(init)"
   ]
  },
  {
   "cell_type": "code",
   "execution_count": 171,
   "metadata": {
    "collapsed": false
   },
   "outputs": [
    {
     "name": "stdout",
     "output_type": "stream",
     "text": [
      "7.67311e+07\n"
     ]
    }
   ],
   "source": [
    "print(sess.run(score, {T:100, D : X, tee : 100}))"
   ]
  },
  {
   "cell_type": "code",
   "execution_count": 172,
   "metadata": {
    "collapsed": true
   },
   "outputs": [],
   "source": [
    "optimizer = tf.train.GradientDescentOptimizer(0.01)\n",
    "train = optimizer.minimize(score)"
   ]
  },
  {
   "cell_type": "code",
   "execution_count": 173,
   "metadata": {
    "collapsed": true
   },
   "outputs": [],
   "source": [
    "for i in range(1000):\n",
    "    sess.run(train, {T:100, D : X, tee : 100})"
   ]
  },
  {
   "cell_type": "code",
   "execution_count": 174,
   "metadata": {
    "collapsed": false
   },
   "outputs": [
    {
     "name": "stdout",
     "output_type": "stream",
     "text": [
      "-1.90954\n"
     ]
    }
   ],
   "source": [
    "print(sess.run(score, {T:100, D : X, tee : 100}))"
   ]
  },
  {
   "cell_type": "code",
   "execution_count": null,
   "metadata": {
    "collapsed": true
   },
   "outputs": [],
   "source": []
  }
 ],
 "metadata": {
  "kernelspec": {
   "display_name": "Python 3",
   "language": "python",
   "name": "python3"
  },
  "language_info": {
   "codemirror_mode": {
    "name": "ipython",
    "version": 3
   },
   "file_extension": ".py",
   "mimetype": "text/x-python",
   "name": "python",
   "nbconvert_exporter": "python",
   "pygments_lexer": "ipython3",
   "version": "3.5.1"
  }
 },
 "nbformat": 4,
 "nbformat_minor": 0
}
